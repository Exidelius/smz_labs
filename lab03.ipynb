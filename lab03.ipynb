{
 "cells": [
  {
   "cell_type": "code",
   "execution_count": 1,
   "metadata": {},
   "outputs": [],
   "source": [
    "from typing import (\n",
    "    Optional,\n",
    "    Tuple,\n",
    "    Union,\n",
    ")\n",
    "\n",
    "import ipytest\n",
    "import numpy as np\n",
    "import pytest\n",
    "import torch\n",
    "from torch import nn\n",
    "from torch.nn.common_types import Tensor"
   ]
  },
  {
   "cell_type": "code",
   "execution_count": 7,
   "metadata": {},
   "outputs": [],
   "source": [
    "ipytest.autoconfig()"
   ]
  },
  {
   "cell_type": "code",
   "execution_count": 356,
   "metadata": {},
   "outputs": [],
   "source": [
    "def conv_transpose2d(\n",
    "    input: Tensor,\n",
    "    weights: Tensor,\n",
    "    bias: Optional[Tensor] = None,\n",
    "    stride: Optional[Union[int, Tuple]] = 1,\n",
    "    padding: Optional[Union[int, Union[Tuple, str]]] = 0,\n",
    "    output_padding: Optional[Union[int, Union[Tuple, str]]] = 0,\n",
    "    dilation: Optional[Union[int, Tuple]] = 1,\n",
    "    groups: Optional[int] = 1,\n",
    "):\n",
    "\n",
    "    batch_size, in_channels, input_height, input_width = input.shape\n",
    "    out_channels, in_channels, kernel_height, kernel_width = weights.shape\n",
    "\n",
    "    out_height = (input_height - 1) * stride - 2 * padding + kernel_height + output_padding\n",
    "    out_width = (input_width - 1) * stride - 2 * padding + kernel_width + output_padding\n",
    "    \n",
    "    groupped_channels = out_channels // groups\n",
    "    output = np.zeros((batch_size, groupped_channels, out_height, out_width))\n",
    "\n",
    "    for batch in range(batch_size):\n",
    "        for channel in range(out_channels):\n",
    "            for i in range(out_height):\n",
    "                for j in range(out_width):\n",
    "                    for k in range(in_channels):\n",
    "                        for s in range(kernel_height):\n",
    "                            for t in range(kernel_width):\n",
    "                                for single_channel in range(groupped_channels):\n",
    "                                    ii = i + padding - s * dilation\n",
    "                                    jj = j + padding - t * dilation\n",
    "                                    if ( \\\n",
    "                                        ii >= 0 \\\n",
    "                                        and jj >= 0 \\\n",
    "                                        and ii < input_height * stride \\\n",
    "                                        and jj < input_width * stride \\\n",
    "                                        and ii % stride == 0 \\\n",
    "                                        and jj % stride == 0 \\\n",
    "                                    ):\n",
    "                                        ii //= stride\n",
    "                                        jj //= stride\n",
    "                                        output[batch, single_channel, i, j] += input[batch, k, ii, jj] * weights[single_channel, k, s, t]\n",
    "                                    \n",
    "            output[batch] += bias[channel] if bias else 0\n",
    "            \n",
    "    return output"
   ]
  },
  {
   "cell_type": "code",
   "execution_count": 357,
   "metadata": {},
   "outputs": [],
   "source": [
    "@pytest.fixture(scope='class')\n",
    "def inputs():\n",
    "    return torch.randn(1, 1, 10, 10)\n",
    "\n",
    "@pytest.fixture(scope='class')\n",
    "def weights():\n",
    "    return torch.randn(1, 1, 5, 5)\n",
    "\n",
    "@pytest.fixture(scope='class')\n",
    "def bias():\n",
    "    return torch.randn(1)"
   ]
  },
  {
   "cell_type": "code",
   "execution_count": 358,
   "metadata": {},
   "outputs": [
    {
     "name": "stdout",
     "output_type": "stream",
     "text": [
      "\u001b[32m.\u001b[0m\u001b[32m.\u001b[0m\u001b[32m.\u001b[0m\u001b[32m.\u001b[0m\n",
      "\u001b[32m\u001b[32m\u001b[1m4 passed\u001b[0m\u001b[32m in 0.21s\u001b[0m\u001b[0m\n"
     ]
    }
   ],
   "source": [
    "%%ipytest -s\n",
    "\n",
    "@pytest.mark.usefixtures('inputs')\n",
    "@pytest.mark.usefixtures('weights')\n",
    "@pytest.mark.usefixtures('bias')\n",
    "class TestConv2D:\n",
    "    def test_conv2d_success(self, inputs, weights):\n",
    "        result = conv_transpose2d(inputs, weights)\n",
    "        expected_result = nn.functional.conv_transpose2d(inputs, weights)   \n",
    "        assert np.allclose(expected_result, result, atol=1e-4, rtol=1e-3)\n",
    "        \n",
    "    def test_conv2d_bias_success(self, inputs, weights, bias):\n",
    "        result = conv_transpose2d(inputs.numpy(), weights.numpy(), bias.numpy())\n",
    "        expected_result = nn.functional.conv_transpose2d(inputs, weights, bias=bias).numpy()   \n",
    "        assert np.allclose(expected_result, result, atol=1e-4, rtol=1e-3)\n",
    "        \n",
    "    def test_conv2d_bias_padding_success(self, inputs, weights, bias):\n",
    "        result = conv_transpose2d(inputs.numpy(), weights.numpy(), bias.numpy(), padding=5)\n",
    "        expected_result = nn.functional.conv_transpose2d(inputs, weights, bias=bias, padding=5).numpy()   \n",
    "        assert np.allclose(expected_result, result, atol=1e-4, rtol=1e-3)\n",
    "        \n",
    "    def test_conv2d_bias_padding_stride_success(self, inputs, weights, bias):\n",
    "        result = conv_transpose2d(inputs.numpy(), weights.numpy(), bias.numpy(), padding=5, stride=2)\n",
    "        expected_result = nn.functional.conv_transpose2d(inputs, weights, bias=bias, padding=5, stride=2).numpy()   \n",
    "        assert np.allclose(expected_result, result, atol=1e-4, rtol=1e-3)\n"
   ]
  },
  {
   "cell_type": "code",
   "execution_count": null,
   "metadata": {},
   "outputs": [],
   "source": []
  }
 ],
 "metadata": {
  "kernelspec": {
   "display_name": "Python 3",
   "language": "python",
   "name": "python3"
  },
  "language_info": {
   "codemirror_mode": {
    "name": "ipython",
    "version": 3
   },
   "file_extension": ".py",
   "mimetype": "text/x-python",
   "name": "python",
   "nbconvert_exporter": "python",
   "pygments_lexer": "ipython3",
   "version": "3.11.5"
  }
 },
 "nbformat": 4,
 "nbformat_minor": 2
}
