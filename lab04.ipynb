{
 "cells": [
  {
   "cell_type": "code",
   "execution_count": 1,
   "metadata": {},
   "outputs": [],
   "source": [
    "from typing import (\n",
    "    Optional,\n",
    "    Tuple,\n",
    "    Union,\n",
    ")\n",
    "\n",
    "import ipytest\n",
    "import numpy as np\n",
    "import pytest\n",
    "import torch\n",
    "from torch import nn\n",
    "from torch.nn.common_types import Tensor"
   ]
  },
  {
   "cell_type": "code",
   "execution_count": 2,
   "metadata": {},
   "outputs": [],
   "source": [
    "ipytest.autoconfig()"
   ]
  },
  {
   "cell_type": "code",
   "execution_count": 94,
   "metadata": {},
   "outputs": [],
   "source": [
    "def upsample(\n",
    "        input: Tensor, \n",
    "        size: Optional[Union[int, Tuple[int, int]]] = None,\n",
    "        scale_factor: Optional[Union[float, Tuple[float, float]]] = None, \n",
    "        mode: str = 'bilinear',   \n",
    "    ):\n",
    "    if mode != 'bilinear':\n",
    "        raise ValueError(\"Параметр mode может быть только bilinear\")\n",
    "    \n",
    "    if not size and not scale_factor:\n",
    "        raise ValueError(\"Заполните один из параметров: size, scale_factor\")\n",
    "    \n",
    "    batch_size, channels, input_height, input_width = input.shape\n",
    "\n",
    "    if size:\n",
    "        (result_height, result_width) = (size, size) if isinstance(size, int) else size\n",
    "        scale_factor = (result_height / input_height, result_width / input_width)\n",
    "    elif scale_factor:\n",
    "        scale_factor = (scale_factor, scale_factor) if isinstance(scale_factor, float) else scale_factor\n",
    "        result_height, result_width = int(input_height*scale_factor[0]), int(input_width*scale_factor[1])\n",
    "\n",
    "    result = np.zeros((batch_size, channels, result_height, result_width))\n",
    "\n",
    "    r = (np.arange(result_height) + 0.5) / scale_factor[0] - 0.5\n",
    "    c = (np.arange(result_width) + 0.5) / scale_factor[1] - 0.5\n",
    "\n",
    "    for i in range(result_height):\n",
    "        for j in range(result_width):\n",
    "            row = r[i]\n",
    "            col = c[j]\n",
    "            r0 = int(row)\n",
    "            r1 = min(r0 + 1, input_height - 1)\n",
    "            c0 = int(col)\n",
    "            c1 = min(c0 + 1, input_width - 1)\n",
    "            dr = row - r0\n",
    "            dc = col - c0\n",
    "\n",
    "            for k in range(channels):\n",
    "                result[:, k, i, j] = (1 - dr) * (1 - dc) * input[:, k, r0, c0] + dr * (1 - dc) * input[:, k, r1, c0] + (1 - dr) * dc * input[:, k, r0, c1] + dr * dc * input[:, k, r1, c1]\n",
    "\n",
    "    return result"
   ]
  },
  {
   "cell_type": "code",
   "execution_count": 95,
   "metadata": {},
   "outputs": [],
   "source": [
    "@pytest.fixture(scope='class')\n",
    "def inputs():\n",
    "    return torch.randn(2, 4, 1, 1)"
   ]
  },
  {
   "cell_type": "code",
   "execution_count": 101,
   "metadata": {},
   "outputs": [
    {
     "name": "stdout",
     "output_type": "stream",
     "text": [
      "\u001b[32m.\u001b[0m"
     ]
    },
    {
     "name": "stdout",
     "output_type": "stream",
     "text": [
      "\u001b[32m.\u001b[0m\n",
      "\u001b[33m======================================== warnings summary =========================================\u001b[0m\n",
      "t_b1742cceadd4476abdc5ac6046714271.py::TestConv2D::test_upscaling_scale_factor_success\n",
      "t_b1742cceadd4476abdc5ac6046714271.py::TestConv2D::test_upscaling_size_success\n",
      "  c:\\Python311\\Lib\\site-packages\\torch\\nn\\functional.py:3769: UserWarning: nn.functional.upsample is deprecated. Use nn.functional.interpolate instead.\n",
      "    warnings.warn(\"nn.functional.upsample is deprecated. Use nn.functional.interpolate instead.\")\n",
      "\n",
      "-- Docs: https://docs.pytest.org/en/stable/how-to/capture-warnings.html\n",
      "\u001b[33m\u001b[32m2 passed\u001b[0m, \u001b[33m\u001b[1m2 warnings\u001b[0m\u001b[33m in 0.04s\u001b[0m\u001b[0m\n"
     ]
    }
   ],
   "source": [
    "%%ipytest -s\n",
    "\n",
    "@pytest.mark.usefixtures('inputs')\n",
    "class TestConv2D:\n",
    "    def test_upscaling_scale_factor_success(self, inputs):\n",
    "        result = upsample(inputs, scale_factor=6.0)\n",
    "        expected_result = nn.functional.upsample(inputs, scale_factor=6, mode='bilinear') .numpy()\n",
    "        assert np.allclose(expected_result, result, atol=1e-4, rtol=1e-3)\n",
    "        \n",
    "    def test_upscaling_size_success(self, inputs):\n",
    "        result = upsample(inputs, size=4)\n",
    "        expected_result = nn.functional.upsample(inputs, size=4, mode='bilinear') .numpy()\n",
    "        assert np.allclose(expected_result, result, atol=1e-4, rtol=1e-3)"
   ]
  },
  {
   "cell_type": "code",
   "execution_count": null,
   "metadata": {},
   "outputs": [],
   "source": []
  }
 ],
 "metadata": {
  "kernelspec": {
   "display_name": "Python 3",
   "language": "python",
   "name": "python3"
  },
  "language_info": {
   "codemirror_mode": {
    "name": "ipython",
    "version": 3
   },
   "file_extension": ".py",
   "mimetype": "text/x-python",
   "name": "python",
   "nbconvert_exporter": "python",
   "pygments_lexer": "ipython3",
   "version": "3.11.5"
  }
 },
 "nbformat": 4,
 "nbformat_minor": 2
}
