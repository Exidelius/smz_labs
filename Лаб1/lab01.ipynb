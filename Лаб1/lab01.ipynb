{
 "cells": [
  {
   "cell_type": "code",
   "execution_count": 8,
   "metadata": {},
   "outputs": [],
   "source": [
    "from typing import (\n",
    "    Union,\n",
    "    Optional,\n",
    "    Tuple,\n",
    ")\n",
    "\n",
    "import numpy as np\n",
    "import torch\n",
    "from torch import nn\n",
    "from torch.nn.common_types import Tensor"
   ]
  },
  {
   "cell_type": "code",
   "execution_count": 27,
   "metadata": {},
   "outputs": [],
   "source": [
    "inputs = torch.randn(1, 1, 5, 5)\n",
    "filters = torch.randn(1, 1, 3, 3)"
   ]
  },
  {
   "cell_type": "code",
   "execution_count": null,
   "metadata": {},
   "outputs": [],
   "source": [
    "nn.functional.conv2d(inputs, filters, padding=1)"
   ]
  },
  {
   "cell_type": "code",
   "execution_count": 35,
   "metadata": {},
   "outputs": [],
   "source": [
    "def convolution2D(\n",
    "    tensor: Tensor,\n",
    "    weights: Tensor,\n",
    "    bias: Optional[bool] = None,\n",
    "    stride: Optional[Union[int, Tuple]] = 1,\n",
    "    padding: Optional[Union[int, Union[Tuple, str]]] = 0,\n",
    "    dilation: Optional[Union[int, Tuple]] = 1,\n",
    "    groups: Optional[int] = 1,\n",
    ") -> Tensor:\n",
    "    tensor_2d = tensor[0, 0].copy()\n",
    "    weights_2d = weights[0, 0].copy()\n",
    "\n",
    "    if bias:\n",
    "        bias_value = torch.rand(weights_2d)\n",
    "    else:\n",
    "        bias_value = torch.zero(weights_2d)\n",
    "\n",
    "    if padding > 0:\n",
    "        tensor_2d = nn.functional.pad(tensor_2d, padding)\n",
    "\n",
    "    \n",
    "    input_height, input_width = tensor_2d.shape\n",
    "    weights_height, weights_width = weights_2d.shape\n",
    "\n",
    "    Y = torch.zeros(\n",
    "        (input_height + weights_height - 1, input_width + weights_width - 1)\n",
    "    )\n",
    "\n",
    "    for i in range(input_height):\n",
    "        for j in range(input_width):\n",
    "            Y[i : i + weights_height, j : j + weights_width] += (\n",
    "                weights_2d[i, j] * weights_2d\n",
    "            )\n",
    "\n",
    "    return Y[\n",
    "        weights_height - 1 : -weights_height + 1, weights_width - 1 : -weights_width + 1\n",
    "    ]"
   ]
  },
  {
   "cell_type": "code",
   "execution_count": 36,
   "metadata": {},
   "outputs": [
    {
     "ename": "IndexError",
     "evalue": "index 3 is out of bounds for axis 1 with size 3",
     "output_type": "error",
     "traceback": [
      "\u001b[1;31m---------------------------------------------------------------------------\u001b[0m",
      "\u001b[1;31mIndexError\u001b[0m                                Traceback (most recent call last)",
      "Cell \u001b[1;32mIn[36], line 1\u001b[0m\n\u001b[1;32m----> 1\u001b[0m \u001b[43mconvolution2D\u001b[49m\u001b[43m(\u001b[49m\u001b[43minputs\u001b[49m\u001b[43m[\u001b[49m\u001b[38;5;241;43m0\u001b[39;49m\u001b[43m,\u001b[49m\u001b[38;5;241;43m0\u001b[39;49m\u001b[43m]\u001b[49m\u001b[38;5;241;43m.\u001b[39;49m\u001b[43mnumpy\u001b[49m\u001b[43m(\u001b[49m\u001b[43m)\u001b[49m\u001b[43m,\u001b[49m\u001b[43m \u001b[49m\u001b[43mfilters\u001b[49m\u001b[43m[\u001b[49m\u001b[38;5;241;43m0\u001b[39;49m\u001b[43m,\u001b[49m\u001b[38;5;241;43m0\u001b[39;49m\u001b[43m]\u001b[49m\u001b[38;5;241;43m.\u001b[39;49m\u001b[43mnumpy\u001b[49m\u001b[43m(\u001b[49m\u001b[43m)\u001b[49m\u001b[43m)\u001b[49m\n",
      "Cell \u001b[1;32mIn[35], line 18\u001b[0m, in \u001b[0;36mconvolution2D\u001b[1;34m(input_tensor, weights, bias, stride, padding, dilation, groups)\u001b[0m\n\u001b[0;32m     15\u001b[0m \u001b[38;5;28;01mfor\u001b[39;00m i \u001b[38;5;129;01min\u001b[39;00m \u001b[38;5;28mrange\u001b[39m(input_height):\n\u001b[0;32m     16\u001b[0m     \u001b[38;5;28;01mfor\u001b[39;00m j \u001b[38;5;129;01min\u001b[39;00m \u001b[38;5;28mrange\u001b[39m(input_width):\n\u001b[1;32m---> 18\u001b[0m         Y[i:i\u001b[38;5;241m+\u001b[39mweights_height,j:j\u001b[38;5;241m+\u001b[39mweights_width] \u001b[38;5;241m+\u001b[39m\u001b[38;5;241m=\u001b[39m \u001b[43mweights\u001b[49m\u001b[43m[\u001b[49m\u001b[43mi\u001b[49m\u001b[43m,\u001b[49m\u001b[43mj\u001b[49m\u001b[43m]\u001b[49m\u001b[38;5;241m*\u001b[39mweights\n\u001b[0;32m     20\u001b[0m \u001b[38;5;28;01mreturn\u001b[39;00m Y[weights_height\u001b[38;5;241m-\u001b[39m\u001b[38;5;241m1\u001b[39m:\u001b[38;5;241m-\u001b[39mweights_height\u001b[38;5;241m+\u001b[39m\u001b[38;5;241m1\u001b[39m,weights_width\u001b[38;5;241m-\u001b[39m\u001b[38;5;241m1\u001b[39m:\u001b[38;5;241m-\u001b[39mweights_width\u001b[38;5;241m+\u001b[39m\u001b[38;5;241m1\u001b[39m]\n",
      "\u001b[1;31mIndexError\u001b[0m: index 3 is out of bounds for axis 1 with size 3"
     ]
    }
   ],
   "source": [
    "convolution2D(inputs[0,0].numpy(), filters[0,0].numpy())"
   ]
  },
  {
   "cell_type": "code",
   "execution_count": null,
   "metadata": {},
   "outputs": [],
   "source": []
  }
 ],
 "metadata": {
  "kernelspec": {
   "display_name": "Python 3",
   "language": "python",
   "name": "python3"
  },
  "language_info": {
   "codemirror_mode": {
    "name": "ipython",
    "version": 3
   },
   "file_extension": ".py",
   "mimetype": "text/x-python",
   "name": "python",
   "nbconvert_exporter": "python",
   "pygments_lexer": "ipython3",
   "version": "3.11.5"
  }
 },
 "nbformat": 4,
 "nbformat_minor": 2
}
